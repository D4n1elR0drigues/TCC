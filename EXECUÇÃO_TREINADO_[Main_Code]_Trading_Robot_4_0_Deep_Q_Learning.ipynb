{
  "cells": [
    {
      "cell_type": "markdown",
      "metadata": {
        "id": "view-in-github",
        "colab_type": "text"
      },
      "source": [
        "<a href=\"https://colab.research.google.com/github/D4n1elR0drigues/TCC/blob/main/EXECU%C3%87%C3%83O_TREINADO_%5BMain_Code%5D_Trading_Robot_4_0_Deep_Q_Learning.ipynb\" target=\"_parent\"><img src=\"https://colab.research.google.com/assets/colab-badge.svg\" alt=\"Open In Colab\"/></a>"
      ]
    },
    {
      "cell_type": "code",
      "execution_count": null,
      "metadata": {
        "colab": {
          "base_uri": "https://localhost:8080/",
          "height": 34
        },
        "id": "QTd21an3F2a5",
        "outputId": "c4a22853-af8c-4350-f0e9-85842bd2c897"
      },
      "outputs": [
        {
          "output_type": "display_data",
          "data": {
            "text/plain": [
              "<Figure size 2200x1500 with 0 Axes>"
            ]
          },
          "metadata": {}
        }
      ],
      "source": [
        "# Imports\n",
        "import math\n",
        "import random\n",
        "import numpy as np\n",
        "import pandas as pd\n",
        "import tensorflow as tf\n",
        "import matplotlib.pyplot as plt\n",
        "import pandas_datareader as data_reader\n",
        "\n",
        "from tqdm import tqdm_notebook, tqdm\n",
        "from collections import deque\n",
        "\n",
        "import pandas\n",
        "from pandas_datareader import data as pdr\n",
        "import yfinance as yfin\n",
        "import datetime\n",
        "\n",
        "import numpy as np\n",
        "from tensorflow import keras\n",
        "from tensorflow.keras import layers\n",
        "from tensorflow.keras.models import load_model\n",
        "\n",
        "from google.colab import files\n",
        "\n",
        "import shutil\n",
        "\n",
        "import time\n",
        "\n",
        "import os\n",
        "\n",
        "from pickle import TRUE\n",
        "\n",
        "import matplotlib.pyplot as plt\n",
        "plt.gcf().set_size_inches(22, 15, forward=True)\n",
        "\n",
        "# Monte o Google Drive no ambiente do Colab\n"
      ]
    },
    {
      "cell_type": "code",
      "execution_count": null,
      "metadata": {
        "id": "nMWegySnF4jR"
      },
      "outputs": [],
      "source": [
        "# Defining our Deep Q-Learning Trader\n",
        "\n",
        "class AI_Trader():\n",
        "\n",
        "# -----------------------------------------------------------------------\n",
        "\n",
        "  # CONSTRUTOR\n",
        "\n",
        "  def __init__(self, state_size, action_space=3, model_name=\"AITrader\"):\n",
        "\n",
        "    self.state_size = state_size # Tamanho da entrada da rede neural\n",
        "    self.action_space = action_space # Espaço de ação será 3, Comprar, Vender, Sem Ação (Tamanho da saída da rede neural)\n",
        "    self.memory = deque(maxlen=2000) # Memória com 2000 posições. A função Deque permite adicionar elementos ao final, enquanto remove elementos do início.\n",
        "    self.inventory = [] # Terá as comprar que já fizemos\n",
        "    self.model_name = model_name # Nome do modelo para o Keras\n",
        "\n",
        "    self.model = self.model_builder() # Inicializa um modelo e de rede neural e salva na classe\n",
        "\n",
        "# -----------------------------------------------------------------------\n",
        "\n",
        "  # DEFININDO A REDE NEURAL\n",
        "\n",
        "  def model_builder(self):\n",
        "\n",
        "    model = tf.keras.models.Sequential()\n",
        "    model.add(layers.Dense(units=32, activation='relu', input_dim=self.state_size))\n",
        "    model.add(layers.Dense(units=64, activation='relu'))\n",
        "    model.add(layers.Dense(units=128, activation='relu'))\n",
        "    model.add(layers.Dense(units=self.action_space, activation='linear')) # De maneira geral, teremos 3 saída na rede geral (número de espaços de ação)\n",
        "\n",
        "\n",
        "    model.compile(loss='mse', optimizer=keras.optimizers.Adam(learning_rate=0.001)); # Compilamos o modelo\n",
        "\n",
        "    return model # Retornamos o modelo pela função.\n",
        "\n",
        "# -----------------------------------------------------------------------\n",
        "\n",
        "  # FUNÇÃO DE TRADE\n",
        "  # Usa o Epsilon e um número aleatório para definir se usará um dado aleatório ou a previsão da rede.\n",
        "\n",
        "  def trade(self, state):\n",
        "    actions = self.model.predict(state)\n",
        "    return np.argmax(actions[0])  # Sem aleatoriedade ou com aleatoriedade controlada pelo parâmetro\n",
        "# -----------------------------------------------------------------------"
      ]
    },
    {
      "cell_type": "code",
      "execution_count": null,
      "metadata": {
        "id": "mlwcYt-3fItG"
      },
      "outputs": [],
      "source": [
        "# Stock Market Data Preprocessing\n",
        "\n",
        "# Definiremos algumas funções auxiliares\n",
        "\n",
        "# Sigmoid\n",
        "def sigmoid(x):\n",
        "  return 1 / (1 + math.exp(-x))\n",
        "\n",
        "# Função para formatar texto\n",
        "def stock_price_format(n):\n",
        "  if n < 0:\n",
        "    return \"- # {0:2f}\".format(abs(n))\n",
        "  else:\n",
        "    return \"$ {0:2f}\".format(abs(n))\n",
        "\n",
        "# Busca dados no Yahoo Finance\n",
        "# Formato data = \"yyyy-mm-dd\"\n",
        "def dataset_loader(stock_name, initial_date, final_date):\n",
        "\n",
        "  yfin.pdr_override()\n",
        "\n",
        "  dataset = pdr.get_data_yahoo(stock_name, start=initial_date, end=final_date)\n",
        "\n",
        "  start_date = str(dataset.index[0]).split()[0]\n",
        "  end_date = str(dataset.index[1]).split()[0]\n",
        "\n",
        "  close = dataset['Close']\n",
        "\n",
        "  return close"
      ]
    },
    {
      "cell_type": "code",
      "execution_count": null,
      "metadata": {
        "id": "v6ZXzg8GjLM1"
      },
      "outputs": [],
      "source": [
        "# State Creator\n",
        "\n",
        "\n",
        "def state_creator(data, timestep, window_size):\n",
        "\n",
        "  # O index incial (starting_id) será o timestep (passos/dias que já foram dados)\n",
        "  # menos o tamanho da janela, que serão os dias olhados para trás.\n",
        "  starting_id = timestep - window_size + 1\n",
        "\n",
        "\n",
        "  # Lógica para preencher os dados vindos da tabela Data, no array windowed_data\n",
        "\n",
        "  if starting_id >= 0: # No geral este será a condição sempre executada\n",
        "    windowed_data = data[starting_id: timestep + 1]\n",
        "\n",
        "  else: # Condição executada apenas nos primeiros valores\n",
        "    windowed_data =- starting_id * [data[0]] + list(data[0:timestep + 1])\n",
        "\n",
        "  state = [] # Criação de uma array para retorno, com o estado.\n",
        "\n",
        "  for i in range(window_size - 1):\n",
        "    state.append(sigmoid(windowed_data[i + 1] - windowed_data[i]))\n",
        "\n",
        "  return np.array([state])"
      ]
    },
    {
      "cell_type": "code",
      "execution_count": null,
      "metadata": {
        "colab": {
          "base_uri": "https://localhost:8080/",
          "height": 1000
        },
        "id": "2pLJDQkSbkKR",
        "outputId": "b636dbb8-f536-4368-c69b-10218932c9aa"
      },
      "outputs": [
        {
          "output_type": "display_data",
          "data": {
            "text/plain": [
              "<IPython.core.display.HTML object>"
            ],
            "text/html": [
              "\n",
              "     <input type=\"file\" id=\"files-803581d4-d3b2-4f2c-aa08-7ed9babbd382\" name=\"files[]\" multiple disabled\n",
              "        style=\"border:none\" />\n",
              "     <output id=\"result-803581d4-d3b2-4f2c-aa08-7ed9babbd382\">\n",
              "      Upload widget is only available when the cell has been executed in the\n",
              "      current browser session. Please rerun this cell to enable.\n",
              "      </output>\n",
              "      <script>// Copyright 2017 Google LLC\n",
              "//\n",
              "// Licensed under the Apache License, Version 2.0 (the \"License\");\n",
              "// you may not use this file except in compliance with the License.\n",
              "// You may obtain a copy of the License at\n",
              "//\n",
              "//      http://www.apache.org/licenses/LICENSE-2.0\n",
              "//\n",
              "// Unless required by applicable law or agreed to in writing, software\n",
              "// distributed under the License is distributed on an \"AS IS\" BASIS,\n",
              "// WITHOUT WARRANTIES OR CONDITIONS OF ANY KIND, either express or implied.\n",
              "// See the License for the specific language governing permissions and\n",
              "// limitations under the License.\n",
              "\n",
              "/**\n",
              " * @fileoverview Helpers for google.colab Python module.\n",
              " */\n",
              "(function(scope) {\n",
              "function span(text, styleAttributes = {}) {\n",
              "  const element = document.createElement('span');\n",
              "  element.textContent = text;\n",
              "  for (const key of Object.keys(styleAttributes)) {\n",
              "    element.style[key] = styleAttributes[key];\n",
              "  }\n",
              "  return element;\n",
              "}\n",
              "\n",
              "// Max number of bytes which will be uploaded at a time.\n",
              "const MAX_PAYLOAD_SIZE = 100 * 1024;\n",
              "\n",
              "function _uploadFiles(inputId, outputId) {\n",
              "  const steps = uploadFilesStep(inputId, outputId);\n",
              "  const outputElement = document.getElementById(outputId);\n",
              "  // Cache steps on the outputElement to make it available for the next call\n",
              "  // to uploadFilesContinue from Python.\n",
              "  outputElement.steps = steps;\n",
              "\n",
              "  return _uploadFilesContinue(outputId);\n",
              "}\n",
              "\n",
              "// This is roughly an async generator (not supported in the browser yet),\n",
              "// where there are multiple asynchronous steps and the Python side is going\n",
              "// to poll for completion of each step.\n",
              "// This uses a Promise to block the python side on completion of each step,\n",
              "// then passes the result of the previous step as the input to the next step.\n",
              "function _uploadFilesContinue(outputId) {\n",
              "  const outputElement = document.getElementById(outputId);\n",
              "  const steps = outputElement.steps;\n",
              "\n",
              "  const next = steps.next(outputElement.lastPromiseValue);\n",
              "  return Promise.resolve(next.value.promise).then((value) => {\n",
              "    // Cache the last promise value to make it available to the next\n",
              "    // step of the generator.\n",
              "    outputElement.lastPromiseValue = value;\n",
              "    return next.value.response;\n",
              "  });\n",
              "}\n",
              "\n",
              "/**\n",
              " * Generator function which is called between each async step of the upload\n",
              " * process.\n",
              " * @param {string} inputId Element ID of the input file picker element.\n",
              " * @param {string} outputId Element ID of the output display.\n",
              " * @return {!Iterable<!Object>} Iterable of next steps.\n",
              " */\n",
              "function* uploadFilesStep(inputId, outputId) {\n",
              "  const inputElement = document.getElementById(inputId);\n",
              "  inputElement.disabled = false;\n",
              "\n",
              "  const outputElement = document.getElementById(outputId);\n",
              "  outputElement.innerHTML = '';\n",
              "\n",
              "  const pickedPromise = new Promise((resolve) => {\n",
              "    inputElement.addEventListener('change', (e) => {\n",
              "      resolve(e.target.files);\n",
              "    });\n",
              "  });\n",
              "\n",
              "  const cancel = document.createElement('button');\n",
              "  inputElement.parentElement.appendChild(cancel);\n",
              "  cancel.textContent = 'Cancel upload';\n",
              "  const cancelPromise = new Promise((resolve) => {\n",
              "    cancel.onclick = () => {\n",
              "      resolve(null);\n",
              "    };\n",
              "  });\n",
              "\n",
              "  // Wait for the user to pick the files.\n",
              "  const files = yield {\n",
              "    promise: Promise.race([pickedPromise, cancelPromise]),\n",
              "    response: {\n",
              "      action: 'starting',\n",
              "    }\n",
              "  };\n",
              "\n",
              "  cancel.remove();\n",
              "\n",
              "  // Disable the input element since further picks are not allowed.\n",
              "  inputElement.disabled = true;\n",
              "\n",
              "  if (!files) {\n",
              "    return {\n",
              "      response: {\n",
              "        action: 'complete',\n",
              "      }\n",
              "    };\n",
              "  }\n",
              "\n",
              "  for (const file of files) {\n",
              "    const li = document.createElement('li');\n",
              "    li.append(span(file.name, {fontWeight: 'bold'}));\n",
              "    li.append(span(\n",
              "        `(${file.type || 'n/a'}) - ${file.size} bytes, ` +\n",
              "        `last modified: ${\n",
              "            file.lastModifiedDate ? file.lastModifiedDate.toLocaleDateString() :\n",
              "                                    'n/a'} - `));\n",
              "    const percent = span('0% done');\n",
              "    li.appendChild(percent);\n",
              "\n",
              "    outputElement.appendChild(li);\n",
              "\n",
              "    const fileDataPromise = new Promise((resolve) => {\n",
              "      const reader = new FileReader();\n",
              "      reader.onload = (e) => {\n",
              "        resolve(e.target.result);\n",
              "      };\n",
              "      reader.readAsArrayBuffer(file);\n",
              "    });\n",
              "    // Wait for the data to be ready.\n",
              "    let fileData = yield {\n",
              "      promise: fileDataPromise,\n",
              "      response: {\n",
              "        action: 'continue',\n",
              "      }\n",
              "    };\n",
              "\n",
              "    // Use a chunked sending to avoid message size limits. See b/62115660.\n",
              "    let position = 0;\n",
              "    do {\n",
              "      const length = Math.min(fileData.byteLength - position, MAX_PAYLOAD_SIZE);\n",
              "      const chunk = new Uint8Array(fileData, position, length);\n",
              "      position += length;\n",
              "\n",
              "      const base64 = btoa(String.fromCharCode.apply(null, chunk));\n",
              "      yield {\n",
              "        response: {\n",
              "          action: 'append',\n",
              "          file: file.name,\n",
              "          data: base64,\n",
              "        },\n",
              "      };\n",
              "\n",
              "      let percentDone = fileData.byteLength === 0 ?\n",
              "          100 :\n",
              "          Math.round((position / fileData.byteLength) * 100);\n",
              "      percent.textContent = `${percentDone}% done`;\n",
              "\n",
              "    } while (position < fileData.byteLength);\n",
              "  }\n",
              "\n",
              "  // All done.\n",
              "  yield {\n",
              "    response: {\n",
              "      action: 'complete',\n",
              "    }\n",
              "  };\n",
              "}\n",
              "\n",
              "scope.google = scope.google || {};\n",
              "scope.google.colab = scope.google.colab || {};\n",
              "scope.google.colab._files = {\n",
              "  _uploadFiles,\n",
              "  _uploadFilesContinue,\n",
              "};\n",
              "})(self);\n",
              "</script> "
            ]
          },
          "metadata": {}
        },
        {
          "output_type": "stream",
          "name": "stdout",
          "text": [
            "Saving treinamento1_petr4 (1).h5 to treinamento1_petr4 (1) (5).h5\n",
            "\r[*********************100%%**********************]  1 of 1 completed\n"
          ]
        },
        {
          "output_type": "stream",
          "name": "stderr",
          "text": [
            "\r  0%|          | 0/102 [00:00<?, ?it/s]"
          ]
        },
        {
          "output_type": "stream",
          "name": "stdout",
          "text": [
            "1/1 [==============================] - 0s 65ms/step\n"
          ]
        },
        {
          "output_type": "stream",
          "name": "stderr",
          "text": [
            "\r  1%|          | 1/102 [00:00<00:11,  8.42it/s]"
          ]
        },
        {
          "output_type": "stream",
          "name": "stdout",
          "text": [
            " - AI Trader Comprou:  $ 22.920000\n",
            "1/1 [==============================] - 0s 20ms/step\n",
            " - AI Trader Comprou:  $ 22.340000\n",
            "1/1 [==============================] - 0s 21ms/step\n"
          ]
        },
        {
          "output_type": "stream",
          "name": "stderr",
          "text": [
            "\r  3%|▎         | 3/102 [00:00<00:08, 11.30it/s]"
          ]
        },
        {
          "output_type": "stream",
          "name": "stdout",
          "text": [
            " - AI Trader Comprou:  $ 23.049999\n",
            "1/1 [==============================] - 0s 21ms/step\n",
            " - AI Trader Comprou:  $ 23.879999\n",
            "1/1 [==============================] - 0s 22ms/step\n"
          ]
        },
        {
          "output_type": "stream",
          "name": "stderr",
          "text": [
            "\r  5%|▍         | 5/102 [00:00<00:08, 11.41it/s]"
          ]
        },
        {
          "output_type": "stream",
          "name": "stdout",
          "text": [
            " - AI Trader Comprou:  $ 23.740000\n",
            "1/1 [==============================] - 0s 20ms/step\n",
            " - AI Trader Comprou:  $ 23.870001\n",
            "1/1 [==============================] - 0s 21ms/step\n"
          ]
        },
        {
          "output_type": "stream",
          "name": "stderr",
          "text": [
            "\r  7%|▋         | 7/102 [00:00<00:08, 11.61it/s]"
          ]
        },
        {
          "output_type": "stream",
          "name": "stdout",
          "text": [
            " - AI Trader Vendeu:  $ 24.090000  - Lucro: $ 1.170000\n",
            "1/1 [==============================] - 0s 20ms/step\n",
            " - AI Trader Comprou:  $ 24.280001\n",
            "1/1 [==============================] - 0s 20ms/step\n"
          ]
        },
        {
          "output_type": "stream",
          "name": "stderr",
          "text": [
            "\r  9%|▉         | 9/102 [00:00<00:08, 11.58it/s]"
          ]
        },
        {
          "output_type": "stream",
          "name": "stdout",
          "text": [
            " - AI Trader Comprou:  $ 24.629999\n",
            "1/1 [==============================] - 0s 21ms/step\n",
            " - AI Trader Comprou:  $ 24.570000\n",
            "1/1 [==============================] - 0s 19ms/step\n"
          ]
        },
        {
          "output_type": "stream",
          "name": "stderr",
          "text": [
            "\r 11%|█         | 11/102 [00:00<00:07, 11.67it/s]"
          ]
        },
        {
          "output_type": "stream",
          "name": "stdout",
          "text": [
            " - Sem ação | Total de papeis no portfolio =  8\n",
            "1/1 [==============================] - 0s 20ms/step\n",
            " - Sem ação | Total de papeis no portfolio =  8\n",
            "1/1 [==============================] - 0s 20ms/step\n"
          ]
        },
        {
          "output_type": "stream",
          "name": "stderr",
          "text": [
            "\r 13%|█▎        | 13/102 [00:01<00:07, 11.99it/s]"
          ]
        },
        {
          "output_type": "stream",
          "name": "stdout",
          "text": [
            " - AI Trader Comprou:  $ 25.070000\n",
            "1/1 [==============================] - 0s 21ms/step\n",
            " - AI Trader Comprou:  $ 25.889999\n",
            "1/1 [==============================] - 0s 21ms/step\n"
          ]
        },
        {
          "output_type": "stream",
          "name": "stderr",
          "text": [
            "\r 15%|█▍        | 15/102 [00:01<00:07, 11.79it/s]"
          ]
        },
        {
          "output_type": "stream",
          "name": "stdout",
          "text": [
            " - AI Trader Comprou:  $ 26.370001\n",
            "1/1 [==============================] - 0s 21ms/step\n",
            " - AI Trader Vendeu:  $ 26.790001  - Lucro: $ 4.450001\n",
            "1/1 [==============================] - 0s 21ms/step\n"
          ]
        },
        {
          "output_type": "stream",
          "name": "stderr",
          "text": [
            "\r 17%|█▋        | 17/102 [00:01<00:07, 11.81it/s]"
          ]
        },
        {
          "output_type": "stream",
          "name": "stdout",
          "text": [
            " - AI Trader Comprou:  $ 26.600000\n",
            "1/1 [==============================] - 0s 21ms/step\n",
            " - AI Trader Comprou:  $ 26.940001\n",
            "1/1 [==============================] - 0s 22ms/step\n"
          ]
        },
        {
          "output_type": "stream",
          "name": "stderr",
          "text": [
            "\r 19%|█▊        | 19/102 [00:01<00:06, 11.95it/s]"
          ]
        },
        {
          "output_type": "stream",
          "name": "stdout",
          "text": [
            " - AI Trader Comprou:  $ 26.250000\n",
            "1/1 [==============================] - 0s 21ms/step\n",
            " - AI Trader Comprou:  $ 25.620001\n",
            "1/1 [==============================] - 0s 20ms/step\n"
          ]
        },
        {
          "output_type": "stream",
          "name": "stderr",
          "text": [
            "\r 21%|██        | 21/102 [00:01<00:06, 11.83it/s]"
          ]
        },
        {
          "output_type": "stream",
          "name": "stdout",
          "text": [
            " - AI Trader Comprou:  $ 25.750000\n",
            "1/1 [==============================] - 0s 20ms/step\n",
            " - AI Trader Comprou:  $ 26.070000\n",
            "1/1 [==============================] - 0s 20ms/step\n"
          ]
        },
        {
          "output_type": "stream",
          "name": "stderr",
          "text": [
            "\r 23%|██▎       | 23/102 [00:01<00:06, 11.70it/s]"
          ]
        },
        {
          "output_type": "stream",
          "name": "stdout",
          "text": [
            " - AI Trader Comprou:  $ 25.709999\n",
            "1/1 [==============================] - 0s 20ms/step\n",
            " - AI Trader Comprou:  $ 24.520000\n",
            "1/1 [==============================] - 0s 21ms/step\n"
          ]
        },
        {
          "output_type": "stream",
          "name": "stderr",
          "text": [
            "\r 25%|██▍       | 25/102 [00:02<00:06, 11.77it/s]"
          ]
        },
        {
          "output_type": "stream",
          "name": "stdout",
          "text": [
            " - Sem ação | Total de papeis no portfolio =  18\n",
            "1/1 [==============================] - 0s 21ms/step\n",
            " - AI Trader Comprou:  $ 25.780001\n",
            "1/1 [==============================] - 0s 22ms/step\n"
          ]
        },
        {
          "output_type": "stream",
          "name": "stderr",
          "text": [
            "\r 26%|██▋       | 27/102 [00:02<00:06, 11.65it/s]"
          ]
        },
        {
          "output_type": "stream",
          "name": "stdout",
          "text": [
            " - AI Trader Comprou:  $ 25.620001\n",
            "1/1 [==============================] - 0s 21ms/step\n",
            " - AI Trader Comprou:  $ 26.049999\n",
            "1/1 [==============================] - 0s 21ms/step\n"
          ]
        },
        {
          "output_type": "stream",
          "name": "stderr",
          "text": [
            "\r 28%|██▊       | 29/102 [00:02<00:06, 11.75it/s]"
          ]
        },
        {
          "output_type": "stream",
          "name": "stdout",
          "text": [
            " - AI Trader Vendeu:  $ 25.930000  - Lucro: $ 2.880001\n",
            "1/1 [==============================] - 0s 24ms/step\n",
            " - AI Trader Vendeu:  $ 26.719999  - Lucro: $ 2.840000\n",
            "1/1 [==============================] - 0s 23ms/step\n"
          ]
        },
        {
          "output_type": "stream",
          "name": "stderr",
          "text": [
            "\r 30%|███       | 31/102 [00:02<00:06, 11.48it/s]"
          ]
        },
        {
          "output_type": "stream",
          "name": "stdout",
          "text": [
            " - AI Trader Comprou:  $ 26.799999\n",
            "1/1 [==============================] - 0s 25ms/step\n",
            " - AI Trader Comprou:  $ 26.700001\n",
            "1/1 [==============================] - 0s 21ms/step\n"
          ]
        },
        {
          "output_type": "stream",
          "name": "stderr",
          "text": [
            "\r 32%|███▏      | 33/102 [00:02<00:06, 11.31it/s]"
          ]
        },
        {
          "output_type": "stream",
          "name": "stdout",
          "text": [
            " - AI Trader Comprou:  $ 26.740000\n",
            "1/1 [==============================] - 0s 22ms/step\n",
            " - Sem ação | Total de papeis no portfolio =  22\n",
            "1/1 [==============================] - 0s 20ms/step\n"
          ]
        },
        {
          "output_type": "stream",
          "name": "stderr",
          "text": [
            "\r 34%|███▍      | 35/102 [00:03<00:05, 11.55it/s]"
          ]
        },
        {
          "output_type": "stream",
          "name": "stdout",
          "text": [
            " - AI Trader Comprou:  $ 26.440001\n",
            "1/1 [==============================] - 0s 21ms/step\n",
            " - AI Trader Comprou:  $ 25.760000\n",
            "1/1 [==============================] - 0s 21ms/step\n"
          ]
        },
        {
          "output_type": "stream",
          "name": "stderr",
          "text": [
            "\r 36%|███▋      | 37/102 [00:03<00:05, 11.81it/s]"
          ]
        },
        {
          "output_type": "stream",
          "name": "stdout",
          "text": [
            " - Sem ação | Total de papeis no portfolio =  24\n",
            "1/1 [==============================] - 0s 25ms/step\n",
            " - AI Trader Comprou:  $ 25.900000\n",
            "1/1 [==============================] - 0s 22ms/step\n"
          ]
        },
        {
          "output_type": "stream",
          "name": "stderr",
          "text": [
            "\r 38%|███▊      | 39/102 [00:03<00:05, 11.75it/s]"
          ]
        },
        {
          "output_type": "stream",
          "name": "stdout",
          "text": [
            " - AI Trader Comprou:  $ 26.150000\n",
            "1/1 [==============================] - 0s 39ms/step\n",
            " - AI Trader Comprou:  $ 25.240000\n",
            "1/1 [==============================] - 0s 32ms/step\n"
          ]
        },
        {
          "output_type": "stream",
          "name": "stderr",
          "text": [
            "\r 40%|████      | 41/102 [00:03<00:05, 10.51it/s]"
          ]
        },
        {
          "output_type": "stream",
          "name": "stdout",
          "text": [
            " - Sem ação | Total de papeis no portfolio =  27\n",
            "1/1 [==============================] - 0s 30ms/step\n",
            " - AI Trader Comprou:  $ 24.639999\n",
            "1/1 [==============================] - 0s 33ms/step\n"
          ]
        },
        {
          "output_type": "stream",
          "name": "stderr",
          "text": [
            "\r 42%|████▏     | 43/102 [00:03<00:06,  9.30it/s]"
          ]
        },
        {
          "output_type": "stream",
          "name": "stdout",
          "text": [
            " - AI Trader Comprou:  $ 25.700001\n",
            "1/1 [==============================] - 0s 31ms/step\n"
          ]
        },
        {
          "output_type": "stream",
          "name": "stderr",
          "text": [
            "\r 43%|████▎     | 44/102 [00:03<00:06,  8.92it/s]"
          ]
        },
        {
          "output_type": "stream",
          "name": "stdout",
          "text": [
            " - AI Trader Comprou:  $ 25.959999\n",
            "1/1 [==============================] - 0s 30ms/step\n"
          ]
        },
        {
          "output_type": "stream",
          "name": "stderr",
          "text": [
            "\r 44%|████▍     | 45/102 [00:04<00:06,  8.71it/s]"
          ]
        },
        {
          "output_type": "stream",
          "name": "stdout",
          "text": [
            " - AI Trader Comprou:  $ 25.100000\n",
            "1/1 [==============================] - 0s 32ms/step\n"
          ]
        },
        {
          "output_type": "stream",
          "name": "stderr",
          "text": [
            "\r 45%|████▌     | 46/102 [00:04<00:06,  8.60it/s]"
          ]
        },
        {
          "output_type": "stream",
          "name": "stdout",
          "text": [
            " - AI Trader Vendeu:  $ 25.420000  - Lucro: $ 1.680000\n",
            "1/1 [==============================] - 0s 33ms/step\n"
          ]
        },
        {
          "output_type": "stream",
          "name": "stderr",
          "text": [
            "\r 46%|████▌     | 47/102 [00:04<00:06,  8.30it/s]"
          ]
        },
        {
          "output_type": "stream",
          "name": "stdout",
          "text": [
            " - AI Trader Comprou:  $ 25.309999\n",
            "1/1 [==============================] - 0s 32ms/step\n"
          ]
        },
        {
          "output_type": "stream",
          "name": "stderr",
          "text": [
            "\r 47%|████▋     | 48/102 [00:04<00:06,  8.28it/s]"
          ]
        },
        {
          "output_type": "stream",
          "name": "stdout",
          "text": [
            " - AI Trader Comprou:  $ 24.980000\n",
            "1/1 [==============================] - 0s 32ms/step\n"
          ]
        },
        {
          "output_type": "stream",
          "name": "stderr",
          "text": [
            "\r 48%|████▊     | 49/102 [00:04<00:06,  8.04it/s]"
          ]
        },
        {
          "output_type": "stream",
          "name": "stdout",
          "text": [
            " - AI Trader Comprou:  $ 24.190001\n",
            "1/1 [==============================] - 0s 29ms/step\n"
          ]
        },
        {
          "output_type": "stream",
          "name": "stderr",
          "text": [
            "\r 49%|████▉     | 50/102 [00:04<00:06,  7.81it/s]"
          ]
        },
        {
          "output_type": "stream",
          "name": "stdout",
          "text": [
            " - AI Trader Comprou:  $ 23.760000\n",
            "1/1 [==============================] - 0s 32ms/step\n"
          ]
        },
        {
          "output_type": "stream",
          "name": "stderr",
          "text": [
            "\r 50%|█████     | 51/102 [00:04<00:06,  7.61it/s]"
          ]
        },
        {
          "output_type": "stream",
          "name": "stdout",
          "text": [
            " - Sem ação | Total de papeis no portfolio =  34\n",
            "1/1 [==============================] - 0s 32ms/step\n"
          ]
        },
        {
          "output_type": "stream",
          "name": "stderr",
          "text": [
            "\r 51%|█████     | 52/102 [00:05<00:06,  7.69it/s]"
          ]
        },
        {
          "output_type": "stream",
          "name": "stdout",
          "text": [
            " - AI Trader Comprou:  $ 23.260000\n",
            "1/1 [==============================] - 0s 32ms/step\n"
          ]
        },
        {
          "output_type": "stream",
          "name": "stderr",
          "text": [
            "\r 52%|█████▏    | 53/102 [00:05<00:06,  7.89it/s]"
          ]
        },
        {
          "output_type": "stream",
          "name": "stdout",
          "text": [
            " - AI Trader Comprou:  $ 23.510000\n",
            "1/1 [==============================] - 0s 34ms/step\n"
          ]
        },
        {
          "output_type": "stream",
          "name": "stderr",
          "text": [
            "\r 53%|█████▎    | 54/102 [00:05<00:06,  7.81it/s]"
          ]
        },
        {
          "output_type": "stream",
          "name": "stdout",
          "text": [
            " - AI Trader Comprou:  $ 22.930000\n",
            "1/1 [==============================] - 0s 30ms/step\n"
          ]
        },
        {
          "output_type": "stream",
          "name": "stderr",
          "text": [
            "\r 54%|█████▍    | 55/102 [00:05<00:05,  8.01it/s]"
          ]
        },
        {
          "output_type": "stream",
          "name": "stdout",
          "text": [
            " - AI Trader Comprou:  $ 23.400000\n",
            "1/1 [==============================] - 0s 30ms/step\n"
          ]
        },
        {
          "output_type": "stream",
          "name": "stderr",
          "text": [
            "\r 55%|█████▍    | 56/102 [00:05<00:05,  8.07it/s]"
          ]
        },
        {
          "output_type": "stream",
          "name": "stdout",
          "text": [
            " - AI Trader Comprou:  $ 23.330000\n",
            "1/1 [==============================] - 0s 33ms/step\n"
          ]
        },
        {
          "output_type": "stream",
          "name": "stderr",
          "text": [
            "\r 56%|█████▌    | 57/102 [00:05<00:05,  7.80it/s]"
          ]
        },
        {
          "output_type": "stream",
          "name": "stdout",
          "text": [
            " - AI Trader Comprou:  $ 22.799999\n",
            "1/1 [==============================] - 0s 29ms/step\n"
          ]
        },
        {
          "output_type": "stream",
          "name": "stderr",
          "text": [
            "\r 57%|█████▋    | 58/102 [00:05<00:05,  7.69it/s]"
          ]
        },
        {
          "output_type": "stream",
          "name": "stdout",
          "text": [
            " - AI Trader Comprou:  $ 22.790001\n",
            "1/1 [==============================] - 0s 38ms/step\n"
          ]
        },
        {
          "output_type": "stream",
          "name": "stderr",
          "text": [
            "\r 58%|█████▊    | 59/102 [00:05<00:05,  7.52it/s]"
          ]
        },
        {
          "output_type": "stream",
          "name": "stdout",
          "text": [
            " - AI Trader Comprou:  $ 23.180000\n",
            "1/1 [==============================] - 0s 32ms/step\n"
          ]
        },
        {
          "output_type": "stream",
          "name": "stderr",
          "text": [
            "\r 59%|█████▉    | 60/102 [00:06<00:05,  7.26it/s]"
          ]
        },
        {
          "output_type": "stream",
          "name": "stdout",
          "text": [
            " - AI Trader Comprou:  $ 23.590000\n",
            "1/1 [==============================] - 0s 32ms/step\n"
          ]
        },
        {
          "output_type": "stream",
          "name": "stderr",
          "text": [
            "\r 60%|█████▉    | 61/102 [00:06<00:05,  7.40it/s]"
          ]
        },
        {
          "output_type": "stream",
          "name": "stdout",
          "text": [
            " - AI Trader Comprou:  $ 23.900000\n",
            "1/1 [==============================] - 0s 34ms/step\n"
          ]
        },
        {
          "output_type": "stream",
          "name": "stderr",
          "text": [
            "\r 61%|██████    | 62/102 [00:06<00:05,  7.55it/s]"
          ]
        },
        {
          "output_type": "stream",
          "name": "stdout",
          "text": [
            " - AI Trader Comprou:  $ 23.969999\n",
            "1/1 [==============================] - 0s 29ms/step\n"
          ]
        },
        {
          "output_type": "stream",
          "name": "stderr",
          "text": [
            "\r 62%|██████▏   | 63/102 [00:06<00:05,  7.65it/s]"
          ]
        },
        {
          "output_type": "stream",
          "name": "stdout",
          "text": [
            " - Sem ação | Total de papeis no portfolio =  45\n",
            "1/1 [==============================] - 0s 31ms/step\n"
          ]
        },
        {
          "output_type": "stream",
          "name": "stderr",
          "text": [
            "\r 63%|██████▎   | 64/102 [00:06<00:04,  7.91it/s]"
          ]
        },
        {
          "output_type": "stream",
          "name": "stdout",
          "text": [
            " - AI Trader Comprou:  $ 24.490000\n",
            "1/1 [==============================] - 0s 42ms/step\n"
          ]
        },
        {
          "output_type": "stream",
          "name": "stderr",
          "text": [
            "\r 64%|██████▎   | 65/102 [00:06<00:04,  7.82it/s]"
          ]
        },
        {
          "output_type": "stream",
          "name": "stdout",
          "text": [
            " - AI Trader Comprou:  $ 24.270000\n",
            "1/1 [==============================] - 0s 22ms/step\n"
          ]
        },
        {
          "output_type": "stream",
          "name": "stderr",
          "text": [
            "\r 65%|██████▍   | 66/102 [00:06<00:04,  8.09it/s]"
          ]
        },
        {
          "output_type": "stream",
          "name": "stdout",
          "text": [
            " - AI Trader Comprou:  $ 24.350000\n",
            "1/1 [==============================] - 0s 40ms/step\n"
          ]
        },
        {
          "output_type": "stream",
          "name": "stderr",
          "text": [
            "\r 66%|██████▌   | 67/102 [00:06<00:04,  8.50it/s]"
          ]
        },
        {
          "output_type": "stream",
          "name": "stdout",
          "text": [
            " - AI Trader Comprou:  $ 24.000000\n",
            "1/1 [==============================] - 0s 22ms/step\n"
          ]
        },
        {
          "output_type": "stream",
          "name": "stderr",
          "text": [
            "\r 67%|██████▋   | 68/102 [00:07<00:04,  8.14it/s]"
          ]
        },
        {
          "output_type": "stream",
          "name": "stdout",
          "text": [
            " - Sem ação | Total de papeis no portfolio =  49\n",
            "1/1 [==============================] - 0s 23ms/step\n",
            " - AI Trader Comprou:  $ 25.660000\n",
            "1/1 [==============================] - 0s 22ms/step\n"
          ]
        },
        {
          "output_type": "stream",
          "name": "stderr",
          "text": [
            "\r 69%|██████▊   | 70/102 [00:07<00:03,  9.43it/s]"
          ]
        },
        {
          "output_type": "stream",
          "name": "stdout",
          "text": [
            " - AI Trader Comprou:  $ 25.850000\n",
            "1/1 [==============================] - 0s 21ms/step\n",
            " - AI Trader Comprou:  $ 26.030001\n",
            "1/1 [==============================] - 0s 21ms/step\n"
          ]
        },
        {
          "output_type": "stream",
          "name": "stderr",
          "text": [
            "\r 71%|███████   | 72/102 [00:07<00:02, 10.24it/s]"
          ]
        },
        {
          "output_type": "stream",
          "name": "stdout",
          "text": [
            " - AI Trader Vendeu:  $ 26.299999  - Lucro: $ 2.429998\n",
            "1/1 [==============================] - 0s 22ms/step\n",
            " - Sem ação | Total de papeis no portfolio =  51\n",
            "1/1 [==============================] - 0s 24ms/step\n"
          ]
        },
        {
          "output_type": "stream",
          "name": "stderr",
          "text": [
            "\r 73%|███████▎  | 74/102 [00:07<00:02, 10.52it/s]"
          ]
        },
        {
          "output_type": "stream",
          "name": "stdout",
          "text": [
            " - AI Trader Comprou:  $ 27.389999\n",
            "1/1 [==============================] - 0s 21ms/step\n",
            " - AI Trader Comprou:  $ 26.510000\n",
            "1/1 [==============================] - 0s 21ms/step\n"
          ]
        },
        {
          "output_type": "stream",
          "name": "stderr",
          "text": [
            "\r 75%|███████▍  | 76/102 [00:07<00:02, 10.38it/s]"
          ]
        },
        {
          "output_type": "stream",
          "name": "stdout",
          "text": [
            " - Sem ação | Total de papeis no portfolio =  53\n",
            "1/1 [==============================] - 0s 21ms/step\n",
            " - AI Trader Vendeu:  $ 27.200001  - Lucro: $ 2.920000\n",
            "1/1 [==============================] - 0s 25ms/step\n"
          ]
        },
        {
          "output_type": "stream",
          "name": "stderr",
          "text": [
            "\r 76%|███████▋  | 78/102 [00:07<00:02, 10.34it/s]"
          ]
        },
        {
          "output_type": "stream",
          "name": "stdout",
          "text": [
            " - AI Trader Comprou:  $ 27.090000\n",
            "1/1 [==============================] - 0s 21ms/step\n",
            " - AI Trader Comprou:  $ 26.750000\n",
            "1/1 [==============================] - 0s 21ms/step\n"
          ]
        },
        {
          "output_type": "stream",
          "name": "stderr",
          "text": [
            "\r 78%|███████▊  | 80/102 [00:08<00:02, 10.77it/s]"
          ]
        },
        {
          "output_type": "stream",
          "name": "stdout",
          "text": [
            " - AI Trader Vendeu:  $ 26.100000  - Lucro: $ 1.470001\n",
            "1/1 [==============================] - 0s 22ms/step\n",
            " - Sem ação | Total de papeis no portfolio =  53\n",
            "1/1 [==============================] - 0s 22ms/step\n"
          ]
        },
        {
          "output_type": "stream",
          "name": "stderr",
          "text": [
            "\r 80%|████████  | 82/102 [00:08<00:01, 10.75it/s]"
          ]
        },
        {
          "output_type": "stream",
          "name": "stdout",
          "text": [
            " - Sem ação | Total de papeis no portfolio =  53\n",
            "1/1 [==============================] - 0s 22ms/step\n",
            " - AI Trader Comprou:  $ 22.660000\n",
            "1/1 [==============================] - 0s 22ms/step\n"
          ]
        },
        {
          "output_type": "stream",
          "name": "stderr",
          "text": [
            "\r 82%|████████▏ | 84/102 [00:08<00:01, 10.91it/s]"
          ]
        },
        {
          "output_type": "stream",
          "name": "stdout",
          "text": [
            " - AI Trader Comprou:  $ 23.020000\n",
            "1/1 [==============================] - 0s 22ms/step\n",
            " - AI Trader Comprou:  $ 24.000000\n",
            "1/1 [==============================] - 0s 22ms/step\n"
          ]
        },
        {
          "output_type": "stream",
          "name": "stderr",
          "text": [
            "\r 84%|████████▍ | 86/102 [00:08<00:01, 10.97it/s]"
          ]
        },
        {
          "output_type": "stream",
          "name": "stdout",
          "text": [
            " - AI Trader Vendeu:  $ 24.510000  - Lucro: - # 0.059999\n",
            "1/1 [==============================] - 0s 21ms/step\n",
            " - AI Trader Vendeu:  $ 24.590000  - Lucro: - # 0.480000\n",
            "1/1 [==============================] - 0s 22ms/step\n"
          ]
        },
        {
          "output_type": "stream",
          "name": "stderr",
          "text": [
            "\r 86%|████████▋ | 88/102 [00:08<00:01, 10.93it/s]"
          ]
        },
        {
          "output_type": "stream",
          "name": "stdout",
          "text": [
            " - AI Trader Comprou:  $ 24.530001\n",
            "1/1 [==============================] - 0s 33ms/step\n",
            " - AI Trader Comprou:  $ 25.430000\n",
            "1/1 [==============================] - 0s 21ms/step\n"
          ]
        },
        {
          "output_type": "stream",
          "name": "stderr",
          "text": [
            "\r 88%|████████▊ | 90/102 [00:09<00:01, 10.83it/s]"
          ]
        },
        {
          "output_type": "stream",
          "name": "stdout",
          "text": [
            " - AI Trader Comprou:  $ 26.250000\n",
            "1/1 [==============================] - 0s 22ms/step\n",
            " - AI Trader Comprou:  $ 25.660000\n",
            "1/1 [==============================] - 0s 21ms/step\n"
          ]
        },
        {
          "output_type": "stream",
          "name": "stderr",
          "text": [
            "\r 90%|█████████ | 92/102 [00:09<00:00, 10.83it/s]"
          ]
        },
        {
          "output_type": "stream",
          "name": "stdout",
          "text": [
            " - AI Trader Vendeu:  $ 26.299999  - Lucro: $ 0.410000\n",
            "1/1 [==============================] - 0s 21ms/step\n",
            " - AI Trader Vendeu:  $ 25.660000  - Lucro: - # 0.710001\n",
            "1/1 [==============================] - 0s 21ms/step\n"
          ]
        },
        {
          "output_type": "stream",
          "name": "stderr",
          "text": [
            "\r 92%|█████████▏| 94/102 [00:09<00:00, 10.96it/s]"
          ]
        },
        {
          "output_type": "stream",
          "name": "stdout",
          "text": [
            " - Sem ação | Total de papeis no portfolio =  56\n",
            "1/1 [==============================] - 0s 21ms/step\n",
            " - AI Trader Comprou:  $ 25.770000\n",
            "1/1 [==============================] - 0s 22ms/step\n"
          ]
        },
        {
          "output_type": "stream",
          "name": "stderr",
          "text": [
            "\r 94%|█████████▍| 96/102 [00:09<00:00, 10.95it/s]"
          ]
        },
        {
          "output_type": "stream",
          "name": "stdout",
          "text": [
            " - AI Trader Comprou:  $ 25.620001\n",
            "1/1 [==============================] - 0s 23ms/step\n",
            " - Sem ação | Total de papeis no portfolio =  58\n",
            "1/1 [==============================] - 0s 25ms/step\n"
          ]
        },
        {
          "output_type": "stream",
          "name": "stderr",
          "text": [
            "\r 96%|█████████▌| 98/102 [00:09<00:00, 11.08it/s]"
          ]
        },
        {
          "output_type": "stream",
          "name": "stdout",
          "text": [
            " - AI Trader Comprou:  $ 26.650000\n",
            "1/1 [==============================] - 0s 21ms/step\n",
            " - AI Trader Comprou:  $ 26.450001\n",
            "1/1 [==============================] - 0s 22ms/step\n"
          ]
        },
        {
          "output_type": "stream",
          "name": "stderr",
          "text": [
            "\r 98%|█████████▊| 100/102 [00:09<00:00, 11.06it/s]"
          ]
        },
        {
          "output_type": "stream",
          "name": "stdout",
          "text": [
            " - AI Trader Comprou:  $ 26.799999\n",
            "1/1 [==============================] - 0s 22ms/step\n",
            " - AI Trader Comprou:  $ 26.690001\n",
            "1/1 [==============================] - 0s 22ms/step\n"
          ]
        },
        {
          "output_type": "stream",
          "name": "stderr",
          "text": [
            "100%|██████████| 102/102 [00:10<00:00, 10.05it/s]"
          ]
        },
        {
          "output_type": "stream",
          "name": "stdout",
          "text": [
            " - AI Trader Comprou:  $ 26.389999\n"
          ]
        },
        {
          "output_type": "stream",
          "name": "stderr",
          "text": [
            "\n"
          ]
        },
        {
          "output_type": "stream",
          "name": "stdout",
          "text": [
            "Min =  -3.267670034496902\n",
            "Mean =  -0.5204930169317722\n",
            "Tempo de Execucao: 10.603785991668701 segundos\n",
            "Taxa de Acerto: 75.0 %\n",
            "Taxa de Erro: 25.0 %\n",
            "Ganho: 86.2466417334773 %\n",
            "Perda: 4.8512925029317095 %\n",
            "payoff: 17.778074952470327\n",
            "Lucro Total: 81.39534923054559 %\n",
            "Buy and Hold: 13.961608866874306 %\n",
            "Total de Operacoes: 12\n"
          ]
        },
        {
          "output_type": "display_data",
          "data": {
            "text/plain": [
              "<Figure size 640x480 with 1 Axes>"
            ],
            "image/png": "[encoded data removed]"
          },
          "metadata": {}
        }
      ],
      "source": [
        "def get_buy_and_hold(data):\n",
        "  first_price = data.iloc[0]\n",
        "  last_price = data.iloc[-1]\n",
        "  return ((last_price-first_price)/first_price)*100\n",
        "\n",
        "def get_drawdown(data):\n",
        "  data['HighValue'] = data['total_profit'].cummax()\n",
        "  data['Drawdown'] = data['total_profit']-data['HighValue']\n",
        "  return data['Drawdown'].min(),data['Drawdown'].mean()\n",
        "\n",
        "def run_trained_model(model_path, data, window_size):\n",
        "    trader = AI_Trader(window_size)\n",
        "    trader.model = tf.keras.models.load_model(model_path)\n",
        "\n",
        "    state = state_creator(data, 0, window_size + 1)\n",
        "    quant_operacoes=0\n",
        "    operacoes_lucro=0\n",
        "    operacoes_prejuizo=0\n",
        "    total_profit = 0\n",
        "    ganho=0\n",
        "    perda=0\n",
        "    trader.inventory.clear()\n",
        "    trader.inventory = []\n",
        "    gt = {'total_profit': []}\n",
        "\n",
        "    for t in tqdm(range(len(data) - 1)):\n",
        "        action = trader.trade(state)\n",
        "        next_state = state_creator(data, t + 1, window_size + 1)\n",
        "\n",
        "        # Sem ação\n",
        "        if action == 0:\n",
        "          # Apenas um print e Recompensa = 0\n",
        "          print(\" - Sem ação | Total de papeis no portfolio = \", len(trader.inventory))\n",
        "\n",
        "        # Compra\n",
        "        if action == 1:\n",
        "          # Recompensa = 0\n",
        "\n",
        "          # Adicionamos a ação comprada na array de portfolio\n",
        "          trader.inventory.append(data[t])\n",
        "\n",
        "          print(\" - AI Trader Comprou: \", stock_price_format(data[t]))\n",
        "\n",
        "        # Venda (Deve possuir ações no portfolio)\n",
        "        elif action == 2 and len(trader.inventory) > 0:\n",
        "\n",
        "          quant_operacoes+=1\n",
        "\n",
        "          # Remove última ação do portfólio e a retorna\n",
        "          buy_price = trader.inventory.pop(0)\n",
        "\n",
        "          #total_profit += data[t] - buy_price # Soma ao lucro/prejuízo total\n",
        "\n",
        "          if (data[t] - buy_price > 0):\n",
        "            operacoes_lucro+=1\n",
        "            ganho+=((data[t]-buy_price)/buy_price)*100\n",
        "            total_profit +=((data[t]-buy_price)/buy_price)*100\n",
        "          else:\n",
        "            operacoes_prejuizo+=1\n",
        "            perda+=((data[t]-buy_price)/buy_price)*100\n",
        "            total_profit +=((data[t]-buy_price)/buy_price)*100\n",
        "\n",
        "          gt['total_profit'].append(total_profit)\n",
        "\n",
        "          print(\" - AI Trader Vendeu: \", stock_price_format(data[t]), \" - Lucro: \" + stock_price_format(data[t] - buy_price) )\n",
        "        state = next_state\n",
        "\n",
        "\n",
        "    taxa_acerto=(operacoes_lucro/quant_operacoes)*100\n",
        "    taxa_erro=(operacoes_prejuizo/quant_operacoes)*100\n",
        "\n",
        "    plt.figure()\n",
        "    plt.plot(gt['total_profit'],linewidth=1)\n",
        "    plt.xlabel('Operações')\n",
        "    plt.ylabel('(%)')\n",
        "    plt.suptitle(f\"Resultado {total_profit:.2f}%\")\n",
        "    plt.title(\"PETR4.SA, Periodo de Avaliação: 01-01-2023 a 01-06-2023\", fontsize=10)\n",
        "    plt.legend(['Capital'])\n",
        "    plt.tight_layout()\n",
        "    plot_filename = 'resultado_plot.png'\n",
        "    plt.savefig(plot_filename)\n",
        "    #files.download(plot_filename)\n",
        "    aux = pd.DataFrame(gt)\n",
        "    minD,meanD = get_drawdown(aux)\n",
        "    print(\"Min = \",minD)\n",
        "    print(\"Mean = \",meanD)\n",
        "\n",
        "    return total_profit, taxa_acerto, taxa_erro, ganho, perda, quant_operacoes\n",
        "\n",
        "\n",
        "uploaded = files.upload()\n",
        "file_name = list(uploaded.keys())[0]\n",
        "model_path = file_name\n",
        "\n",
        "new_data = dataset_loader(\"PETR4.SA\", \"2023-01-01\", \"2023-06-01\")\n",
        "inicio = time.time()\n",
        "\n",
        "total_profit, taxa_acerto, taxa_erro, ganho, perda, quant_operacoes= run_trained_model(model_path, new_data, window_size = 10)\n",
        "\n",
        "fim = time.time()\n",
        "\n",
        "tempo_execucao=fim - inicio\n",
        "buy_and_hold = get_buy_and_hold(new_data)\n",
        "#Print do tempo que demorou para rodar a parte específica do código\n",
        "print(f\"Tempo de Execucao: {tempo_execucao} segundos\")\n",
        "print(f\"Taxa de Acerto: {taxa_acerto} %\")\n",
        "print(f\"Taxa de Erro: {taxa_erro} %\")\n",
        "print(f\"Ganho: {ganho} %\")\n",
        "print(f\"Perda: {abs(perda)} %\")\n",
        "print(f\"payoff: {ganho/abs(perda)}\")\n",
        "print(f\"Lucro Total: {total_profit} %\")\n",
        "print(f\"Buy and Hold: {buy_and_hold} %\")\n",
        "print(f\"Total de Operacoes: {quant_operacoes}\")\n",
        "#vale3 petr4 itub4 bbdc4 bbas3 ,   fonte:trading map"
      ]
    }
  ],
  "metadata": {
    "accelerator": "GPU",
    "colab": {
      "provenance": [],
      "gpuType": "T4",
      "include_colab_link": true
    },
    "kernelspec": {
      "display_name": "Python 3",
      "name": "python3"
    },
    "language_info": {
      "name": "python"
    }
  },
  "nbformat": 4,
  "nbformat_minor": 0
}